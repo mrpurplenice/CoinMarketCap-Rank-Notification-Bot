{
  "nbformat": 4,
  "nbformat_minor": 0,
  "metadata": {
    "colab": {
      "provenance": []
    },
    "kernelspec": {
      "name": "python3",
      "display_name": "Python 3"
    },
    "language_info": {
      "name": "python"
    }
  },
  "cells": [
    {
      "cell_type": "code",
      "execution_count": null,
      "metadata": {
        "id": "pTxS_GrMHITY"
      },
      "outputs": [],
      "source": [
        "import requests\n",
        "import time\n",
        "import json\n",
        "from telegram import Bot\n",
        "\n",
        "# Replace with your Telegram bot token\n",
        "bot = Bot(token='YOUR_TElegram_BOT_TOKEN')\n",
        "\n",
        "# Replace with your CoinMarketCap API key\n",
        "headers = {'X-CMC_PRO_API_KEY': 'YOUR_CoinMarketCap_API_KEY'}\n",
        "\n",
        "# The ID of the cryptocurrency you want to track\n",
        "crypto_id = '1' # Bitcoin\n",
        "\n",
        "# The rank range you want to track\n",
        "rank_range = range(250, 601)\n",
        "\n",
        "while True:\n",
        "    # Make a GET request to the CoinMarketCap API\n",
        "    url = f'https://pro-api.coinmarketcap.com/v1/cryptocurrency/quotes/latest?id={crypto_id}'\n",
        "    response = requests.get(url, headers=headers)\n",
        "\n",
        "    # Parse the JSON response\n",
        "    data = json.loads(response.text)\n",
        "    rank = data['data'][str(crypto_id)]['cmc_rank']\n",
        "\n",
        "    # Check if the cryptocurrency's rank is in the desired range\n",
        "    if rank in rank_range:\n",
        "        print(f'{data[\"data\"][str(crypto_id)][\"name\"]} rank is currently {rank}')\n",
        "    else:\n",
        "        print(f'{data[\"data\"][str(crypto_id)][\"name\"]} rank is currently {rank}')\n",
        "        # Send a notification to Telegram\n",
        "        bot.send_message(chat_id='YOUR_CHAT_ID', text=f'{data[\"data\"][str(crypto_id)][\"name\"]} rank has changed from 250-600 to {rank}')\n",
        "        break\n",
        "    # Wait for n minutes before checking again\n",
        "    time.sleep(n * 60)\n"
      ]
    }
  ]
}